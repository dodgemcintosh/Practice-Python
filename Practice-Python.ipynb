{
 "cells": [
  {
   "cell_type": "markdown",
   "metadata": {},
   "source": [
    "# Solutions for problems on [practicepython.org](http://www.practicepython.org/)\n",
    "### Each `°` is used instead of the \"chili rating\" from the website"
   ]
  },
  {
   "cell_type": "markdown",
   "metadata": {},
   "source": [
    "## *Exercise 1: Character Input °*\n",
    "Create a program that asks the user to enter their name and their age. Print out a message addressed to them that tells them the year that they will turn 100 years old.\n",
    "\n",
    "Extras:\n",
    "- Add on to the previous program by asking the user for another number and printing out that many copies of the previous message.\n",
    "- Print out that many copies of the previous message on separate lines."
   ]
  },
  {
   "cell_type": "code",
   "execution_count": 1,
   "metadata": {},
   "outputs": [
    {
     "name": "stdout",
     "output_type": "stream",
     "text": [
      "Please enter your name: Jennifer\n",
      "How old are you? 27\n",
      "What's your favorite number? 8\n",
      "Jennifer, you will turn 100 in the year 2091.\n",
      "Jennifer, you will turn 100 in the year 2091.\n",
      "Jennifer, you will turn 100 in the year 2091.\n",
      "Jennifer, you will turn 100 in the year 2091.\n",
      "Jennifer, you will turn 100 in the year 2091.\n",
      "Jennifer, you will turn 100 in the year 2091.\n",
      "Jennifer, you will turn 100 in the year 2091.\n",
      "Jennifer, you will turn 100 in the year 2091.\n",
      "\n"
     ]
    }
   ],
   "source": [
    "name = input('Please enter your name: ')\n",
    "age = input('How old are you? ')\n",
    "copies = input(\"What's your favorite number? \")\n",
    "year_100 = (100- int(age)) + 2018\n",
    "print((name + \", you will turn 100 in the year {}.\\n\".format(year_100)) * int(copies))"
   ]
  },
  {
   "cell_type": "markdown",
   "metadata": {},
   "source": [
    "## *Exercise 2: Odd or Even °*\n",
    "Ask the user for a number. Depending on whether the number is even or odd, print out an appropriate message to the user.\n",
    "\n",
    "Extras:\n",
    "\n",
    "- If the number is a multiple of 4, print out a different message.\n",
    "- Ask the user for two numbers: one number to check (call it num) and one number to divide by (check). If check divides evenly into num, tell that to the user. If not, print a different appropriate message."
   ]
  },
  {
   "cell_type": "code",
   "execution_count": 10,
   "metadata": {},
   "outputs": [
    {
     "name": "stdout",
     "output_type": "stream",
     "text": [
      "What is your favorite number? 8\n",
      "What's your least favorite number? 6\n",
      "Nice. Your favorite number is divisible by 4 and your least favorite number doesn't divide evenly into it.\n"
     ]
    }
   ],
   "source": [
    "num = int(input(\"What is your favorite number? \"))\n",
    "check = int(input(\"What's your least favorite number? \"))\n",
    "\n",
    "if num % check == 0:\n",
    "    print(\"Wowww your least favorite number divides evenly into your favorite number!\")\n",
    "elif num % 4 == 0:\n",
    "    print(\"Nice. Your favorite number is divisible by 4 and your least favorite number doesn't divide evenly into it.\")\n",
    "elif num % 2 == 0:\n",
    "    print(\"Your favorite number is even and your least favorite number doesn't divide evenly into it.\")\n",
    "else:\n",
    "    print(\"Your favorite number is odd, you oddball! And your least favorite number doesn't divide evenly into it.\")"
   ]
  },
  {
   "cell_type": "markdown",
   "metadata": {},
   "source": [
    "## *Exercise 3: List Less Than Ten °°*\n",
    "Take a list, say for example this one:\n",
    "\n",
    "`a = [1, 1, 2, 3, 5, 8, 13, 21, 34, 55, 89]`\n",
    "\n",
    "and write a program that prints out all the elements of the list that are less than 5.\n",
    "\n",
    "Extras:\n",
    "- Instead of printing the elements one by one, make a new list that has all the elements less than 5 from this list in it and print out this new list.\n",
    "- Write this in one line of Python.\n",
    "- Ask the user for a number and return a list that contains only elements from the original list a that are smaller than that number given by the user."
   ]
  },
  {
   "cell_type": "code",
   "execution_count": 5,
   "metadata": {},
   "outputs": [
    {
     "name": "stdout",
     "output_type": "stream",
     "text": [
      "What is your favorite number? 44\n"
     ]
    },
    {
     "data": {
      "text/plain": [
       "[1, 1, 2, 3, 5, 8, 13, 21, 34]"
      ]
     },
     "execution_count": 5,
     "metadata": {},
     "output_type": "execute_result"
    }
   ],
   "source": [
    "a = [1, 1, 2, 3, 5, 8, 13, 21, 34, 55, 89]\n",
    "new = []\n",
    "check = int(input(\"What is your favorite number? \"))\n",
    "[new.append(num) for num in a if num < check]\n",
    "new"
   ]
  },
  {
   "cell_type": "markdown",
   "metadata": {},
   "source": [
    "## *Exercise 4: Divisors °°*\n",
    "Create a program that asks the user for a number and then prints out a list of all the divisors of that number. (If you don’t know what a divisor is, it is a number that divides evenly into another number. For example, 13 is a divisor of 26 because 26 / 13 has no remainder.)"
   ]
  },
  {
   "cell_type": "code",
   "execution_count": 6,
   "metadata": {},
   "outputs": [
    {
     "name": "stdout",
     "output_type": "stream",
     "text": [
      "Please feed me a number, human: 42\n",
      "The divisors of 42 are [1, 2, 3, 6, 7, 14, 21, 42].\n"
     ]
    }
   ],
   "source": [
    "number = int(input(\"Please feed me a number, human: \"))\n",
    "divisors = []\n",
    "[divisors.append(x) for x in range(1, (number + 1)) if number % x == 0]\n",
    "print(\"The divisors of {} are {}.\".format(number, divisors))"
   ]
  },
  {
   "cell_type": "markdown",
   "metadata": {},
   "source": [
    "## *Exercise 5: List Overlap °°*\n",
    "Take two lists, say for example these two:\n",
    "\n",
    "`a = [1, 1, 2, 3, 5, 8, 13, 21, 34, 55, 89]`\n",
    "\n",
    "`b = [1, 2, 3, 4, 5, 6, 7, 8, 9, 10, 11, 12, 13]`\n",
    "  \n",
    "and write a program that returns a list that contains only the elements that are common between the lists (without duplicates). Make sure your program works on two lists of different sizes.\n",
    "\n",
    "Extras:\n",
    "- Randomly generate two lists to test this\n",
    "- Write this in one line of Python (don’t worry if you can’t figure this out at this point - we’ll get to it soon)"
   ]
  },
  {
   "cell_type": "code",
   "execution_count": 11,
   "metadata": {},
   "outputs": [
    {
     "name": "stdout",
     "output_type": "stream",
     "text": [
      "List a:  [2, 4, 9, 0, 8, 1, 5, 6, 7, 3]\n",
      "List b:  [9, 4, 5, 0, 7, 3, 6]\n",
      "The common elements in a and b are: [0, 3, 4, 5, 6, 7, 9]\n"
     ]
    }
   ],
   "source": [
    "import random\n",
    "a = random.sample(range(10), 10)\n",
    "b = random.sample(range(10), 7)\n",
    "print(\"List a: \",a)\n",
    "print(\"List b: \",b)\n",
    "print(\"The common elements in a and b are: {}\".format(list(set([num for num in a if num in b]))))"
   ]
  },
  {
   "cell_type": "markdown",
   "metadata": {},
   "source": [
    "## *Exercise 6: String Lists °°*\n",
    "Ask the user for a string and print out whether this string is a palindrome or not. (A palindrome is a string that reads the same forwards and backwards.)"
   ]
  },
  {
   "cell_type": "code",
   "execution_count": 14,
   "metadata": {},
   "outputs": [
    {
     "name": "stdout",
     "output_type": "stream",
     "text": [
      "Please give me a string: TaCo CaT\n",
      "tacocat is a palindrome!\n"
     ]
    }
   ],
   "source": [
    "info = input(\"Please give me a string: \").lower().replace(\" \", \"\")\n",
    "if info[:] == info[::-1]:\n",
    "    print(\"{} is a palindrome!\".format(info))\n",
    "else:\n",
    "    print(\"That's not a palindrome, try again!\")"
   ]
  },
  {
   "cell_type": "markdown",
   "metadata": {},
   "source": [
    "## *Exercise 7: List Comprehensions °°*\n",
    "Let’s say I give you a list saved in a variable: `a = [1, 4, 9, 16, 25, 36, 49, 64, 81, 100]`. Write one line of Python that takes this list `a` and makes a new list that has only the even elements of this list in it."
   ]
  },
  {
   "cell_type": "code",
   "execution_count": 3,
   "metadata": {},
   "outputs": [
    {
     "data": {
      "text/plain": [
       "[4, 16, 36, 64, 100]"
      ]
     },
     "execution_count": 3,
     "metadata": {},
     "output_type": "execute_result"
    }
   ],
   "source": [
    "a = [1, 4, 9, 16, 25, 36, 49, 64, 81, 100]\n",
    "b = [num for num in a if num%2 == 0]\n",
    "b"
   ]
  },
  {
   "cell_type": "markdown",
   "metadata": {},
   "source": [
    "## *Exercise 8: Rock Paper Scissors °°°*\n",
    "Make a two-player Rock-Paper-Scissors game. (Hint: Ask for player plays (using input), compare them, print out a message of congratulations to the winner, and ask if the players want to start a new game)\n",
    "\n",
    "Remember the rules:\n",
    "- Rock beats scissors\n",
    "- Scissors beats paper\n",
    "- Paper beats rock"
   ]
  },
  {
   "cell_type": "code",
   "execution_count": 14,
   "metadata": {},
   "outputs": [
    {
     "name": "stdout",
     "output_type": "stream",
     "text": [
      "Player 1, please play your hand: scissors\n",
      "Player 2, please play your hand: scissors\n",
      "It's a tie!\n",
      "Would you like to play again (y/n): y\n",
      "Player 1, please play your hand: poop\n",
      "Player 2, please play your hand: butt\n",
      "Invalid input! You have not entered rock, paper or scissors, try again.\n",
      "Would you like to play again (y/n): n\n"
     ]
    }
   ],
   "source": [
    "player_1 = input(\"Player 1, please play your hand: \").lower()\n",
    "player_2 = input(\"Player 2, please play your hand: \").lower()\n",
    "\n",
    "def compare_hand(u1,u2):\n",
    "    if u1 == u2:\n",
    "        return(\"It's a tie!\")\n",
    "    elif u1 == 'rock':\n",
    "        if u2 == 'scissors':\n",
    "            return(\"Player 1 wins!\")\n",
    "        else:\n",
    "            return(\"Player 2 wins!\")\n",
    "    elif u1 == 'scissors':\n",
    "        if u2 == 'paper':\n",
    "            return(\"Player 1 wins!\")\n",
    "        else:\n",
    "            return(\"Player 2 wins!\")\n",
    "    elif u1 == 'paper':\n",
    "        if u2 == 'rock':\n",
    "            return(\"Player 1 wins!\")\n",
    "        else:\n",
    "            return(\"Player 2 wins!\")\n",
    "    else:\n",
    "        return(\"Invalid input! You have not entered rock, paper or scissors, try again.\")\n",
    "        sys.exit()\n",
    "\n",
    "print(compare_hand(player_1, player_2))\n",
    "\n",
    "while input(\"Would you like to play again (y/n): \") == 'y':\n",
    "    player_1 = input(\"Player 1, please play your hand: \").lower()\n",
    "    player_2 = input(\"Player 2, please play your hand: \").lower()\n",
    "    print(compare_hand(player_1, player_2))"
   ]
  },
  {
   "cell_type": "markdown",
   "metadata": {},
   "source": [
    "## *Exercise 9: Guessing Game One °°°*\n",
    "Generate a random number between 1 and 9 (including 1 and 9). Ask the user to guess the number, then tell them whether they guessed too low, too high, or exactly right.\n",
    "\n",
    "Extras:\n",
    "- Keep the game going until the user types “exit”\n",
    "- Keep track of how many guesses the user has taken, and when the game ends, print this out."
   ]
  },
  {
   "cell_type": "code",
   "execution_count": 19,
   "metadata": {},
   "outputs": [
    {
     "name": "stdout",
     "output_type": "stream",
     "text": [
      "Pick a number between 1 and 9. (Type 'exit' to quit.)5\n",
      "Too low...\n",
      "Pick a number between 1 and 9. (Type 'exit' to quit.)7\n",
      "Too high...\n",
      "Pick a number between 1 and 9. (Type 'exit' to quit.)6\n",
      "You got it! And it only took you 3 tries!\n"
     ]
    }
   ],
   "source": [
    "import random\n",
    "\n",
    "num = random.randint(1,9)\n",
    "guess = 0\n",
    "count = 0\n",
    "\n",
    "while guess != num and guess != 'exit':\n",
    "    guess = input(\"Pick a number between 1 and 9. (Type 'exit' to quit.)\")\n",
    "    if guess == 'exit':\n",
    "        break\n",
    "    \n",
    "    guess = int(guess)\n",
    "    count += 1\n",
    "    \n",
    "    if guess < num:\n",
    "        print(\"Too low...\")\n",
    "    elif guess > num:\n",
    "        print(\"Too high...\")\n",
    "    else:\n",
    "        print(\"You got it! And it only took you {} tries!\".format(count))"
   ]
  },
  {
   "cell_type": "markdown",
   "metadata": {},
   "source": [
    "## *Exercise 10: List Overlap Comprehension °°*\n",
    "Essentially the same as Exercise 5. See that solution and problem."
   ]
  },
  {
   "cell_type": "markdown",
   "metadata": {},
   "source": [
    "## *Exercise 11: Check Primality Functions °°°*\n",
    "Ask the user for a number and determine whether the number is prime or not. (For those who have forgotten, a prime number is a number that has no divisors.). You can (and should!) use your answer to Exercise 4 to help you."
   ]
  },
  {
   "cell_type": "code",
   "execution_count": 23,
   "metadata": {
    "scrolled": true
   },
   "outputs": [
    {
     "name": "stdout",
     "output_type": "stream",
     "text": [
      "Give me a number that you're curious about being prime or not: 47\n",
      "47 is prime!\n"
     ]
    }
   ],
   "source": [
    "def is_prime(n):\n",
    "    \n",
    "    if n == 2 or n == 3: return True\n",
    "    if n < 2 or n%2 == 0: return False\n",
    "    if n < 9: return True\n",
    "    if n%3 == 0: return False\n",
    "    r = int(n**0.5)\n",
    "    f = 5\n",
    "    while f <= r:\n",
    "#         print ('\\t',f)\n",
    "        if n%f == 0: return False\n",
    "        if n%(f+2) == 0: return False\n",
    "        f +=6\n",
    "    return True\n",
    "\n",
    "check = int(input(\"Give me a number that you're curious about being prime or not: \"))\n",
    "if is_prime(check) == True:\n",
    "    print(\"{} is prime!\".format(check))\n",
    "else:\n",
    "    print(\"Not a prime number, sorry!\")"
   ]
  }
 ],
 "metadata": {
  "kernelspec": {
   "display_name": "Python 3",
   "language": "python",
   "name": "python3"
  },
  "language_info": {
   "codemirror_mode": {
    "name": "ipython",
    "version": 3
   },
   "file_extension": ".py",
   "mimetype": "text/x-python",
   "name": "python",
   "nbconvert_exporter": "python",
   "pygments_lexer": "ipython3",
   "version": "3.6.3"
  }
 },
 "nbformat": 4,
 "nbformat_minor": 2
}
