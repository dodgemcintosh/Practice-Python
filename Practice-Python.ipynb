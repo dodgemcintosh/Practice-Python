{
 "cells": [
  {
   "cell_type": "markdown",
   "metadata": {},
   "source": [
    "# Solutions for problems on [practicepython.org](http://www.practicepython.org/)\n",
    "### Each `°` is used instead of the \"chili rating\" from the website"
   ]
  },
  {
   "cell_type": "markdown",
   "metadata": {},
   "source": [
    "## *Exercise 1: Character Input °*\n",
    "Create a program that asks the user to enter their name and their age. Print out a message addressed to them that tells them the year that they will turn 100 years old.\n",
    "\n",
    "Extras:\n",
    "- Add on to the previous program by asking the user for another number and printing out that many copies of the previous message.\n",
    "- Print out that many copies of the previous message on separate lines."
   ]
  },
  {
   "cell_type": "code",
   "execution_count": 1,
   "metadata": {},
   "outputs": [
    {
     "name": "stdout",
     "output_type": "stream",
     "text": [
      "Please enter your name: Jennifer\n",
      "How old are you? 27\n",
      "What's your favorite number? 8\n",
      "Jennifer, you will turn 100 in the year 2091.\n",
      "Jennifer, you will turn 100 in the year 2091.\n",
      "Jennifer, you will turn 100 in the year 2091.\n",
      "Jennifer, you will turn 100 in the year 2091.\n",
      "Jennifer, you will turn 100 in the year 2091.\n",
      "Jennifer, you will turn 100 in the year 2091.\n",
      "Jennifer, you will turn 100 in the year 2091.\n",
      "Jennifer, you will turn 100 in the year 2091.\n",
      "\n"
     ]
    }
   ],
   "source": [
    "name = input('Please enter your name: ')\n",
    "age = input('How old are you? ')\n",
    "copies = input(\"What's your favorite number? \")\n",
    "year_100 = (100- int(age)) + 2018\n",
    "print((name + \", you will turn 100 in the year {}.\\n\".format(year_100)) * int(copies))"
   ]
  },
  {
   "cell_type": "markdown",
   "metadata": {},
   "source": [
    "## *Exercise 2: Odd or Even °*\n",
    "Ask the user for a number. Depending on whether the number is even or odd, print out an appropriate message to the user.\n",
    "\n",
    "Extras:\n",
    "\n",
    "- If the number is a multiple of 4, print out a different message.\n",
    "- Ask the user for two numbers: one number to check (call it num) and one number to divide by (check). If check divides evenly into num, tell that to the user. If not, print a different appropriate message."
   ]
  },
  {
   "cell_type": "code",
   "execution_count": 10,
   "metadata": {},
   "outputs": [
    {
     "name": "stdout",
     "output_type": "stream",
     "text": [
      "What is your favorite number? 8\n",
      "What's your least favorite number? 6\n",
      "Nice. Your favorite number is divisible by 4 and your least favorite number doesn't divide evenly into it.\n"
     ]
    }
   ],
   "source": [
    "num = int(input(\"What is your favorite number? \"))\n",
    "check = int(input(\"What's your least favorite number? \"))\n",
    "\n",
    "if num % check == 0:\n",
    "    print(\"Wowww your least favorite number divides evenly into your favorite number!\")\n",
    "elif num % 4 == 0:\n",
    "    print(\"Nice. Your favorite number is divisible by 4 and your least favorite number doesn't divide evenly into it.\")\n",
    "elif num % 2 == 0:\n",
    "    print(\"Your favorite number is even and your least favorite number doesn't divide evenly into it.\")\n",
    "else:\n",
    "    print(\"Your favorite number is odd, you oddball! And your least favorite number doesn't divide evenly into it.\")"
   ]
  },
  {
   "cell_type": "markdown",
   "metadata": {},
   "source": [
    "## *Exercise 3: List Less Than Ten °°*\n",
    "Take a list, say for example this one:\n",
    "\n",
    "`a = [1, 1, 2, 3, 5, 8, 13, 21, 34, 55, 89]`\n",
    "\n",
    "and write a program that prints out all the elements of the list that are less than 5.\n",
    "\n",
    "Extras:\n",
    "- Instead of printing the elements one by one, make a new list that has all the elements less than 5 from this list in it and print out this new list.\n",
    "- Write this in one line of Python.\n",
    "- Ask the user for a number and return a list that contains only elements from the original list a that are smaller than that number given by the user."
   ]
  },
  {
   "cell_type": "code",
   "execution_count": 5,
   "metadata": {},
   "outputs": [
    {
     "name": "stdout",
     "output_type": "stream",
     "text": [
      "What is your favorite number? 44\n"
     ]
    },
    {
     "data": {
      "text/plain": [
       "[1, 1, 2, 3, 5, 8, 13, 21, 34]"
      ]
     },
     "execution_count": 5,
     "metadata": {},
     "output_type": "execute_result"
    }
   ],
   "source": [
    "a = [1, 1, 2, 3, 5, 8, 13, 21, 34, 55, 89]\n",
    "new = []\n",
    "check = int(input(\"What is your favorite number? \"))\n",
    "[new.append(num) for num in a if num < check]\n",
    "new"
   ]
  }
 ],
 "metadata": {
  "kernelspec": {
   "display_name": "Python 3",
   "language": "python",
   "name": "python3"
  },
  "language_info": {
   "codemirror_mode": {
    "name": "ipython",
    "version": 3
   },
   "file_extension": ".py",
   "mimetype": "text/x-python",
   "name": "python",
   "nbconvert_exporter": "python",
   "pygments_lexer": "ipython3",
   "version": "3.6.3"
  }
 },
 "nbformat": 4,
 "nbformat_minor": 2
}
