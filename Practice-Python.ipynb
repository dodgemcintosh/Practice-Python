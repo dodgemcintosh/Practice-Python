{
 "cells": [
  {
   "cell_type": "markdown",
   "metadata": {},
   "source": [
    "# Solutions for problems on [practicepython.org](http://www.practicepython.org/)\n",
    "### Each `°` is used instead of the \"chili rating\" from the website"
   ]
  },
  {
   "cell_type": "markdown",
   "metadata": {},
   "source": [
    "## *Exercise 1: Character Input °*\n",
    "Create a program that asks the user to enter their name and their age. Print out a message addressed to them that tells them the year that they will turn 100 years old.\n",
    "\n",
    "Extras:\n",
    "- Add on to the previous program by asking the user for another number and printing out that many copies of the previous message.\n",
    "- Print out that many copies of the previous message on separate lines."
   ]
  },
  {
   "cell_type": "code",
   "execution_count": 1,
   "metadata": {},
   "outputs": [
    {
     "name": "stdout",
     "output_type": "stream",
     "text": [
      "Please enter your name: Jennifer\n",
      "How old are you? 27\n",
      "What's your favorite number? 8\n",
      "Jennifer, you will turn 100 in the year 2091.\n",
      "Jennifer, you will turn 100 in the year 2091.\n",
      "Jennifer, you will turn 100 in the year 2091.\n",
      "Jennifer, you will turn 100 in the year 2091.\n",
      "Jennifer, you will turn 100 in the year 2091.\n",
      "Jennifer, you will turn 100 in the year 2091.\n",
      "Jennifer, you will turn 100 in the year 2091.\n",
      "Jennifer, you will turn 100 in the year 2091.\n",
      "\n"
     ]
    }
   ],
   "source": [
    "name = input('Please enter your name: ')\n",
    "age = input('How old are you? ')\n",
    "copies = input(\"What's your favorite number? \")\n",
    "year_100 = (100- int(age)) + 2018\n",
    "print((name + \", you will turn 100 in the year {}.\\n\".format(year_100)) * int(copies))"
   ]
  },
  {
   "cell_type": "markdown",
   "metadata": {},
   "source": [
    "## *Exercise 2: Odd or Even °*\n",
    "Ask the user for a number. Depending on whether the number is even or odd, print out an appropriate message to the user.\n",
    "\n",
    "Extras:\n",
    "\n",
    "- If the number is a multiple of 4, print out a different message.\n",
    "- Ask the user for two numbers: one number to check (call it num) and one number to divide by (check). If check divides evenly into num, tell that to the user. If not, print a different appropriate message."
   ]
  },
  {
   "cell_type": "code",
   "execution_count": 10,
   "metadata": {},
   "outputs": [
    {
     "name": "stdout",
     "output_type": "stream",
     "text": [
      "What is your favorite number? 8\n",
      "What's your least favorite number? 6\n",
      "Nice. Your favorite number is divisible by 4 and your least favorite number doesn't divide evenly into it.\n"
     ]
    }
   ],
   "source": [
    "num = int(input(\"What is your favorite number? \"))\n",
    "check = int(input(\"What's your least favorite number? \"))\n",
    "\n",
    "if num % check == 0:\n",
    "    print(\"Wowww your least favorite number divides evenly into your favorite number!\")\n",
    "elif num % 4 == 0:\n",
    "    print(\"Nice. Your favorite number is divisible by 4 and your least favorite number doesn't divide evenly into it.\")\n",
    "elif num % 2 == 0:\n",
    "    print(\"Your favorite number is even and your least favorite number doesn't divide evenly into it.\")\n",
    "else:\n",
    "    print(\"Your favorite number is odd, you oddball! And your least favorite number doesn't divide evenly into it.\")"
   ]
  },
  {
   "cell_type": "markdown",
   "metadata": {},
   "source": [
    "## *Exercise 3: List Less Than Ten °°*\n",
    "Take a list, say for example this one:\n",
    "\n",
    "`a = [1, 1, 2, 3, 5, 8, 13, 21, 34, 55, 89]`\n",
    "\n",
    "and write a program that prints out all the elements of the list that are less than 5.\n",
    "\n",
    "Extras:\n",
    "- Instead of printing the elements one by one, make a new list that has all the elements less than 5 from this list in it and print out this new list.\n",
    "- Write this in one line of Python.\n",
    "- Ask the user for a number and return a list that contains only elements from the original list a that are smaller than that number given by the user."
   ]
  },
  {
   "cell_type": "code",
   "execution_count": 5,
   "metadata": {},
   "outputs": [
    {
     "name": "stdout",
     "output_type": "stream",
     "text": [
      "What is your favorite number? 44\n"
     ]
    },
    {
     "data": {
      "text/plain": [
       "[1, 1, 2, 3, 5, 8, 13, 21, 34]"
      ]
     },
     "execution_count": 5,
     "metadata": {},
     "output_type": "execute_result"
    }
   ],
   "source": [
    "a = [1, 1, 2, 3, 5, 8, 13, 21, 34, 55, 89]\n",
    "new = []\n",
    "check = int(input(\"What is your favorite number? \"))\n",
    "[new.append(num) for num in a if num < check]\n",
    "new"
   ]
  },
  {
   "cell_type": "markdown",
   "metadata": {},
   "source": [
    "## *Exercise 4: Divisors °°*\n",
    "Create a program that asks the user for a number and then prints out a list of all the divisors of that number. (If you don’t know what a divisor is, it is a number that divides evenly into another number. For example, 13 is a divisor of 26 because 26 / 13 has no remainder.)"
   ]
  },
  {
   "cell_type": "code",
   "execution_count": 6,
   "metadata": {},
   "outputs": [
    {
     "name": "stdout",
     "output_type": "stream",
     "text": [
      "Please feed me a number, human: 42\n",
      "The divisors of 42 are [1, 2, 3, 6, 7, 14, 21, 42].\n"
     ]
    }
   ],
   "source": [
    "number = int(input(\"Please feed me a number, human: \"))\n",
    "divisors = []\n",
    "[divisors.append(x) for x in range(1, (number + 1)) if number % x == 0]\n",
    "print(\"The divisors of {} are {}.\".format(number, divisors))"
   ]
  },
  {
   "cell_type": "markdown",
   "metadata": {},
   "source": [
    "## *Exercise 5: List Overlap °°*\n",
    "Take two lists, say for example these two:\n",
    "\n",
    "`a = [1, 1, 2, 3, 5, 8, 13, 21, 34, 55, 89]`\n",
    "\n",
    "`b = [1, 2, 3, 4, 5, 6, 7, 8, 9, 10, 11, 12, 13]`\n",
    "  \n",
    "and write a program that returns a list that contains only the elements that are common between the lists (without duplicates). Make sure your program works on two lists of different sizes.\n",
    "\n",
    "Extras:\n",
    "- Randomly generate two lists to test this\n",
    "- Write this in one line of Python (don’t worry if you can’t figure this out at this point - we’ll get to it soon)"
   ]
  },
  {
   "cell_type": "code",
   "execution_count": 11,
   "metadata": {},
   "outputs": [
    {
     "name": "stdout",
     "output_type": "stream",
     "text": [
      "List a:  [2, 4, 9, 0, 8, 1, 5, 6, 7, 3]\n",
      "List b:  [9, 4, 5, 0, 7, 3, 6]\n",
      "The common elements in a and b are: [0, 3, 4, 5, 6, 7, 9]\n"
     ]
    }
   ],
   "source": [
    "import random\n",
    "a = random.sample(range(10), 10)\n",
    "b = random.sample(range(10), 7)\n",
    "print(\"List a: \",a)\n",
    "print(\"List b: \",b)\n",
    "print(\"The common elements in a and b are: {}\".format(list(set([num for num in a if num in b]))))"
   ]
  },
  {
   "cell_type": "markdown",
   "metadata": {},
   "source": [
    "## *Exercise 6: String Lists °°*\n",
    "Ask the user for a string and print out whether this string is a palindrome or not. (A palindrome is a string that reads the same forwards and backwards.)"
   ]
  },
  {
   "cell_type": "code",
   "execution_count": 14,
   "metadata": {},
   "outputs": [
    {
     "name": "stdout",
     "output_type": "stream",
     "text": [
      "Please give me a string: TaCo CaT\n",
      "tacocat is a palindrome!\n"
     ]
    }
   ],
   "source": [
    "info = input(\"Please give me a string: \").lower().replace(\" \", \"\")\n",
    "if info[:] == info[::-1]:\n",
    "    print(\"{} is a palindrome!\".format(info))\n",
    "else:\n",
    "    print(\"That's not a palindrome, try again!\")"
   ]
  },
  {
   "cell_type": "markdown",
   "metadata": {},
   "source": [
    "## *Exercise 7: List Comprehensions °°*\n",
    "Let’s say I give you a list saved in a variable: `a = [1, 4, 9, 16, 25, 36, 49, 64, 81, 100]`. Write one line of Python that takes this list `a` and makes a new list that has only the even elements of this list in it."
   ]
  },
  {
   "cell_type": "code",
   "execution_count": 3,
   "metadata": {},
   "outputs": [
    {
     "data": {
      "text/plain": [
       "[4, 16, 36, 64, 100]"
      ]
     },
     "execution_count": 3,
     "metadata": {},
     "output_type": "execute_result"
    }
   ],
   "source": [
    "a = [1, 4, 9, 16, 25, 36, 49, 64, 81, 100]\n",
    "b = [num for num in a if num%2 == 0]\n",
    "b"
   ]
  },
  {
   "cell_type": "markdown",
   "metadata": {},
   "source": [
    "## *Exercise 8: Rock Paper Scissors °°°*\n",
    "Make a two-player Rock-Paper-Scissors game. (Hint: Ask for player plays (using input), compare them, print out a message of congratulations to the winner, and ask if the players want to start a new game)\n",
    "\n",
    "Remember the rules:\n",
    "- Rock beats scissors\n",
    "- Scissors beats paper\n",
    "- Paper beats rock"
   ]
  },
  {
   "cell_type": "code",
   "execution_count": 14,
   "metadata": {},
   "outputs": [
    {
     "name": "stdout",
     "output_type": "stream",
     "text": [
      "Player 1, please play your hand: scissors\n",
      "Player 2, please play your hand: scissors\n",
      "It's a tie!\n",
      "Would you like to play again (y/n): y\n",
      "Player 1, please play your hand: poop\n",
      "Player 2, please play your hand: butt\n",
      "Invalid input! You have not entered rock, paper or scissors, try again.\n",
      "Would you like to play again (y/n): n\n"
     ]
    }
   ],
   "source": [
    "player_1 = input(\"Player 1, please play your hand: \").lower()\n",
    "player_2 = input(\"Player 2, please play your hand: \").lower()\n",
    "\n",
    "def compare_hand(u1,u2):\n",
    "    if u1 == u2:\n",
    "        return(\"It's a tie!\")\n",
    "    elif u1 == 'rock':\n",
    "        if u2 == 'scissors':\n",
    "            return(\"Player 1 wins!\")\n",
    "        else:\n",
    "            return(\"Player 2 wins!\")\n",
    "    elif u1 == 'scissors':\n",
    "        if u2 == 'paper':\n",
    "            return(\"Player 1 wins!\")\n",
    "        else:\n",
    "            return(\"Player 2 wins!\")\n",
    "    elif u1 == 'paper':\n",
    "        if u2 == 'rock':\n",
    "            return(\"Player 1 wins!\")\n",
    "        else:\n",
    "            return(\"Player 2 wins!\")\n",
    "    else:\n",
    "        return(\"Invalid input! You have not entered rock, paper or scissors, try again.\")\n",
    "        sys.exit()\n",
    "\n",
    "print(compare_hand(player_1, player_2))\n",
    "\n",
    "while input(\"Would you like to play again (y/n): \") == 'y':\n",
    "    player_1 = input(\"Player 1, please play your hand: \").lower()\n",
    "    player_2 = input(\"Player 2, please play your hand: \").lower()\n",
    "    print(compare_hand(player_1, player_2))"
   ]
  },
  {
   "cell_type": "markdown",
   "metadata": {},
   "source": [
    "## *Exercise 9: Guessing Game One °°°*\n",
    "Generate a random number between 1 and 9 (including 1 and 9). Ask the user to guess the number, then tell them whether they guessed too low, too high, or exactly right.\n",
    "\n",
    "Extras:\n",
    "- Keep the game going until the user types “exit”\n",
    "- Keep track of how many guesses the user has taken, and when the game ends, print this out."
   ]
  },
  {
   "cell_type": "code",
   "execution_count": 19,
   "metadata": {},
   "outputs": [
    {
     "name": "stdout",
     "output_type": "stream",
     "text": [
      "Pick a number between 1 and 9. (Type 'exit' to quit.)5\n",
      "Too low...\n",
      "Pick a number between 1 and 9. (Type 'exit' to quit.)7\n",
      "Too high...\n",
      "Pick a number between 1 and 9. (Type 'exit' to quit.)6\n",
      "You got it! And it only took you 3 tries!\n"
     ]
    }
   ],
   "source": [
    "import random\n",
    "\n",
    "num = random.randint(1,9)\n",
    "guess = 0\n",
    "count = 0\n",
    "\n",
    "while guess != num and guess != 'exit':\n",
    "    guess = input(\"Pick a number between 1 and 9. (Type 'exit' to quit.)\")\n",
    "    if guess == 'exit':\n",
    "        break\n",
    "    \n",
    "    guess = int(guess)\n",
    "    count += 1\n",
    "    \n",
    "    if guess < num:\n",
    "        print(\"Too low...\")\n",
    "    elif guess > num:\n",
    "        print(\"Too high...\")\n",
    "    else:\n",
    "        print(\"You got it! And it only took you {} tries!\".format(count))"
   ]
  },
  {
   "cell_type": "markdown",
   "metadata": {},
   "source": [
    "## *Exercise 10: List Overlap Comprehension °°*\n",
    "Essentially the same as Exercise 5. See that solution and problem."
   ]
  },
  {
   "cell_type": "markdown",
   "metadata": {},
   "source": [
    "## *Exercise 11: Check Primality Functions °°°*\n",
    "Ask the user for a number and determine whether the number is prime or not. (For those who have forgotten, a prime number is a number that has no divisors.). You can (and should!) use your answer to Exercise 4 to help you."
   ]
  },
  {
   "cell_type": "code",
   "execution_count": 24,
   "metadata": {
    "scrolled": true
   },
   "outputs": [
    {
     "name": "stdout",
     "output_type": "stream",
     "text": [
      "Give me a number that you're curious about being prime or not: 6\n",
      "Not a prime number, sorry!\n"
     ]
    }
   ],
   "source": [
    "def is_prime(n):\n",
    "    \n",
    "    if n == 2 or n == 3: return True\n",
    "    if n < 2 or n%2 == 0: return False\n",
    "    if n < 9: return True\n",
    "    if n%3 == 0: return False\n",
    "    r = int(n**0.5)\n",
    "    f = 5\n",
    "    while f <= r:\n",
    "#         print ('\\t',f)\n",
    "        if n%f == 0: return False\n",
    "        if n%(f+2) == 0: return False\n",
    "        f +=6\n",
    "    return True\n",
    "\n",
    "check = int(input(\"Give me a number that you're curious about being prime or not: \"))\n",
    "if is_prime(check) == True:\n",
    "    print(\"{} is prime!\".format(check))\n",
    "else:\n",
    "    print(\"Not a prime number, sorry!\")"
   ]
  },
  {
   "cell_type": "markdown",
   "metadata": {},
   "source": [
    "## *Exercise 12: List Ends °*\n",
    "Write a program that takes a list of numbers (for example, `a = [5, 10, 15, 20, 25]`) and makes a new list of only the first and last elements of the given list. For practice, write this code inside a function."
   ]
  },
  {
   "cell_type": "code",
   "execution_count": 39,
   "metadata": {},
   "outputs": [],
   "source": [
    "def get_bookends(array):\n",
    "    if len(array) < 2:\n",
    "        return \"Feed me a longer list!\"\n",
    "    else:\n",
    "        return [array[0], array[-1]]"
   ]
  },
  {
   "cell_type": "code",
   "execution_count": 41,
   "metadata": {
    "scrolled": true
   },
   "outputs": [
    {
     "data": {
      "text/plain": [
       "'Feed me a longer list!'"
      ]
     },
     "execution_count": 41,
     "metadata": {},
     "output_type": "execute_result"
    }
   ],
   "source": [
    "a = [5, 10, 15, 20, 25]\n",
    "b = [1]\n",
    "get_bookends(b)"
   ]
  },
  {
   "cell_type": "markdown",
   "metadata": {},
   "source": [
    "## *Exercise 13: Fibonacci °°*\n",
    "Write a program that asks the user how many Fibonnaci numbers to generate and then generates them. Take this opportunity to think about how you can use functions. Make sure to ask the user to enter the number of numbers in the sequence to generate.\n",
    "- (**Hint**: The Fibonnaci seqence is a sequence of numbers where the next number in the sequence is the sum of the previous two numbers in the sequence. The sequence looks like this: 1, 1, 2, 3, 5, 8, 13, …)"
   ]
  },
  {
   "cell_type": "code",
   "execution_count": 21,
   "metadata": {},
   "outputs": [],
   "source": [
    "def fibonnaci_generator():\n",
    "    numbers = int(input(\"How many Fibonacci numbers would you like to see generated? \"))\n",
    "    if numbers == 0:\n",
    "        return []\n",
    "    elif numbers == 1:\n",
    "        return [1]\n",
    "    elif numbers == 2:\n",
    "        return [1,1]\n",
    "    elif numbers > 2:\n",
    "        sequence = [1,1]\n",
    "        while len(sequence) < numbers:\n",
    "            sequence.append((sequence[-1] + sequence[-2]))\n",
    "        return sequence"
   ]
  },
  {
   "cell_type": "code",
   "execution_count": 24,
   "metadata": {},
   "outputs": [
    {
     "name": "stdout",
     "output_type": "stream",
     "text": [
      "How many Fibonacci numbers would you like to see generated? 20\n"
     ]
    },
    {
     "data": {
      "text/plain": [
       "[1,\n",
       " 1,\n",
       " 2,\n",
       " 3,\n",
       " 5,\n",
       " 8,\n",
       " 13,\n",
       " 21,\n",
       " 34,\n",
       " 55,\n",
       " 89,\n",
       " 144,\n",
       " 233,\n",
       " 377,\n",
       " 610,\n",
       " 987,\n",
       " 1597,\n",
       " 2584,\n",
       " 4181,\n",
       " 6765]"
      ]
     },
     "execution_count": 24,
     "metadata": {},
     "output_type": "execute_result"
    }
   ],
   "source": [
    "fibonnaci_generator()"
   ]
  },
  {
   "cell_type": "markdown",
   "metadata": {},
   "source": [
    "## *Exercise 14: List Remove Duplicates °°*\n",
    "Write a program (function!) that takes a list and returns a new list that contains all the elements of the first list minus all the duplicates.\n",
    "\n",
    "Extras:\n",
    "- Write two different functions to do this - one using a loop and constructing a list, and another using sets."
   ]
  },
  {
   "cell_type": "code",
   "execution_count": 1,
   "metadata": {},
   "outputs": [
    {
     "data": {
      "text/plain": [
       "[1, 3, 5, 7, 9]"
      ]
     },
     "execution_count": 1,
     "metadata": {},
     "output_type": "execute_result"
    }
   ],
   "source": [
    "# Using a loop and constructing a list\n",
    "def remove_duplicates(array):\n",
    "    new = []\n",
    "    for x in array:\n",
    "        if x not in new:\n",
    "            new.append(x)\n",
    "    return new\n",
    "\n",
    "a = [1,3,5,7,9,7,7]\n",
    "remove_duplicates(a)"
   ]
  },
  {
   "cell_type": "code",
   "execution_count": 2,
   "metadata": {},
   "outputs": [
    {
     "data": {
      "text/plain": [
       "[1, 3, 5, 7, 9]"
      ]
     },
     "execution_count": 2,
     "metadata": {},
     "output_type": "execute_result"
    }
   ],
   "source": [
    "# Using sets, much more efficient method\n",
    "def remove_duplicates(array):\n",
    "    return list(set(array))\n",
    "\n",
    "remove_duplicates(a)"
   ]
  },
  {
   "cell_type": "markdown",
   "metadata": {},
   "source": [
    "## *Exercise 15: Reverse Word Order °°°*\n",
    "Write a program (using functions!) that asks the user for a long string containing multiple words. Print back to the user the same string, except with the words in backwards order. For example, say I type the string:\n",
    "\n",
    "`My name is Michele`\n",
    "\n",
    "Then I would see the string:\n",
    "\n",
    "`Michele is name My`\n",
    "\n",
    "shown back to me."
   ]
  },
  {
   "cell_type": "code",
   "execution_count": 12,
   "metadata": {},
   "outputs": [
    {
     "data": {
      "text/plain": [
       "'try not is there not do or Do'"
      ]
     },
     "execution_count": 12,
     "metadata": {},
     "output_type": "execute_result"
    }
   ],
   "source": [
    "def reverse_word_order(long_string):\n",
    "    return \" \".join(long_string.split()[::-1])\n",
    "\n",
    "reverse_word_order(\"Do or do not there is not try\")"
   ]
  },
  {
   "cell_type": "markdown",
   "metadata": {},
   "source": [
    "## *Exercise 16: Password Generator °°°°*\n",
    "Write a password generator in Python. Be creative with how you generate passwords - strong passwords have a mix of lowercase letters, uppercase letters, numbers, and symbols. The passwords should be random, generating a new password every time the user asks for a new password. Include your run-time code in a main method.\n",
    "\n",
    "Extra:\n",
    "- Ask the user how strong they want their password to be. For weak passwords, pick a word or two from a list."
   ]
  },
  {
   "cell_type": "code",
   "execution_count": 43,
   "metadata": {},
   "outputs": [],
   "source": [
    "import random\n",
    "import string\n",
    "def password_generator():\n",
    "    length = int(input(\"How many characters long do you want your password to be? (Between 5 and 20) \"))\n",
    "    pass_list = [random.choice(string.printable) for x in list(range(1,length))]\n",
    "    pass_list.append(str(random.randint(1,9)))\n",
    "    pass_list.append(random.choice(string.ascii_uppercase))\n",
    "    pass_list.append(random.choice(string.ascii_uppercase))\n",
    "    password = \"\".join(pass_list)\n",
    "    return \"Your password is {}. Keep it secret, keep it safe.\".format(password)"
   ]
  },
  {
   "cell_type": "code",
   "execution_count": 44,
   "metadata": {
    "scrolled": true
   },
   "outputs": [
    {
     "name": "stdout",
     "output_type": "stream",
     "text": [
      "How many characters long do you want your password to be? (Between 5 and 20) 8\n"
     ]
    },
    {
     "data": {
      "text/plain": [
       "'Your password is }OD?4!J7KH. Keep it secret, keep it safe.'"
      ]
     },
     "execution_count": 44,
     "metadata": {},
     "output_type": "execute_result"
    }
   ],
   "source": [
    "password_generator()"
   ]
  },
  {
   "cell_type": "markdown",
   "metadata": {},
   "source": [
    "## *Exercise 17: Decode a Web Page °°°°*\n",
    "Use the `BeautifulSoup` and `requests` Python packages to print out a list of all the article titles on the New York Times homepage."
   ]
  },
  {
   "cell_type": "code",
   "execution_count": 5,
   "metadata": {},
   "outputs": [],
   "source": [
    "import requests\n",
    "from bs4 import BeautifulSoup\n",
    "\n",
    "r = requests.get('https://www.nytimes.com/')\n",
    "soup = BeautifulSoup(r.text, 'lxml')"
   ]
  },
  {
   "cell_type": "code",
   "execution_count": 12,
   "metadata": {},
   "outputs": [],
   "source": [
    "article_titles = []\n",
    "for article in soup.find_all('h2', {'class': 'story-heading'}):\n",
    "    article_titles.append(article.text)"
   ]
  },
  {
   "cell_type": "code",
   "execution_count": 20,
   "metadata": {
    "collapsed": true
   },
   "outputs": [
    {
     "data": {
      "text/plain": [
       "['U.S. Won’t Seek Prosecution of Migrants With Families for Now',\n",
       " 'Dispatch From the Border: Sleeping on America’s Doorstep',\n",
       " 'New York Wants to Know: How Many Children Are Here? 3:04 PM ET',\n",
       " 'Harley-Davidson to Shift Work Out of U.S. to Avoid Tariffs',\n",
       " 'U.S. Stock Markets Slip on Trade Policy Fears 6:02 PM ET',\n",
       " '‘Powerful Signal of Recessions’ Has Wall Street’s Attention',\n",
       " 'Democrats Divided Over How Activists Confront Trump Team',\n",
       " 'Trump Criticizes Restaurant That Refused to Serve Press Secretary',\n",
       " 'Atlantic City Sees Hope in New Casinos and Sports Betting',\n",
       " 'Mexico’s Ruling Party Puts Thumb on Scale of Presidential Vote',\n",
       " 'Disenchanted Youth May Tip Election in Mexico',\n",
       " 'Court Sides With American Express on Merchant Fees',\n",
       " 'Court Upholds Texas Voting Maps That Were Called Discriminatory',\n",
       " 'Clash Between Florist and Gay Couple Sent Back to Lower Courts',\n",
       " 'Seven Ways Alabama Has Made It Harder to Vote',\n",
       " 'After John Oliver’s Jokes About Xi Jinping, China Blocks HBO',\n",
       " 'Uber Claims to Have Changed. A London Judge Will Decide.',\n",
       " 'Medicare Allows More Benefits for Chronically Ill',\n",
       " 'Your Evening Briefing',\n",
       " 'Your Tuesday Briefing',\n",
       " 'California Today: When Asylum Is Your ‘Only Shot’',\n",
       " 'Listen to ‘The Daily’: What Migrants Flee',\n",
       " 'Hurricane Season Has Begun. Do You Need Flood Insurance?',\n",
       " 'Graduation Gift Ideas',\n",
       " 'How Teams Can Advance to the Round of 16',\n",
       " 'Spain Wins Group B With a Draw Against Morocco',\n",
       " 'Portugal Advances After a Tie With Iran',\n",
       " 'In a Chinese Village, Elderly Farmers Are Now Yogis',\n",
       " 'Educators Turn Focus to Diversity Among Elite Performers',\n",
       " 'Where Danes Butt Heads (Politely) With Their Leaders',\n",
       " 'The Elephant’s Superb Nose',\n",
       " 'Inside the Nose of an Elephant',\n",
       " 'New Yorkers Mock Route Planned for La Guardia AirTrain',\n",
       " '9 Ways to Get the Most Out of Your Times Subscription',\n",
       " 'It’s Summer. Finally.',\n",
       " 'Gender Letter',\n",
       " 'As Housing Prices Soar, New Zealand Tackles a Surge in Homelessness',\n",
       " 'When Harsh Policy on Migrants Wins Votes',\n",
       " 'Turkey, Saudi Arabia, North Korea: Your Monday Briefing',\n",
       " 'From Brewery to Bakery: A Flour That Fights Waste',\n",
       " 'Saudi Women Can Drive, but Prejudices Remain',\n",
       " 'She With the Receipts Controls the Narrative',\n",
       " 'What My 6-Year-Old Son and I Endured in Family Detention',\n",
       " 'The Law Did Not Create This Crisis, but Lawyers Will Help End It',\n",
       " 'How Entitled Parents Hurt Schools',\n",
       " 'Editorial: The Spirit of Jim Crow in New York’s Schools',\n",
       " 'Harvard Is Wrong That Asians Have Terrible Personalities 4:10 PM ET',\n",
       " 'Blow: White Extinction Anxiety',\n",
       " 'Leonhardt: A Counterattack on Voting Rights',\n",
       " 'Crying in Trump’s Big, Fat, Oval Office',\n",
       " 'The Ignorant Do Not Have a Right to an Audience',\n",
       " 'Editorial: Erdogan Hasn’t Killed Turkey’s Democracy Yet',\n",
       " 'Why We Are Leaving the G.O.P.',\n",
       " 'Sign Up for Our World Cup Newsletter »',\n",
       " 'Lies? False Claims? When Trump’s Statements Aren’t True',\n",
       " 'Our Newsroom Doesn’t Have a Poet Laureate. But This Guy Is Pretty Close.',\n",
       " 'Play Today’s Puzzle',\n",
       " 'Lies? False Claims? When Trump’s Statements Aren’t True',\n",
       " 'Play Today’s Puzzle',\n",
       " 'Play Today’s Puzzle',\n",
       " 'Three Days in Wyoming With Kanye West',\n",
       " 'Trump Is Saving Germany’s Liberals',\n",
       " 'Challenges in Treating Separated Minors',\n",
       " 'Ode to Italy’s Absurdly Beautiful Modern Ruins',\n",
       " 'The Ignorant Do Not Have a Right to an Audience',\n",
       " 'Extinct Gibbon Found in Ancient Chinese Tomb',\n",
       " 'Iran Is Changing, but Not in Ways Trump Thinks',\n",
       " 'Mexico’s Hardball Politics Get Even Harder as PRI Fights to Hold On to Power',\n",
       " 'Harley-Davidson, Blaming E.U. Tariffs, Will Move Some Production Out of U.S.',\n",
       " 'Harley-Davidson Shows Why Corporations Cannot Keep Silent in Trade Wars',\n",
       " 'What My 6-Year-Old Son and I Endured in Family Detention',\n",
       " 'The Law Did Not Create This Crisis, but Lawyers Will Help End It',\n",
       " 'Sleeping on America’s Doorstep: A Dispatch From the Border',\n",
       " 'Supreme Court Won’t Hear Appeal of ‘Making a Murderer’ Subject Brendan Dassey',\n",
       " 'China Extends Lead as Most Prolific Supercomputer Maker',\n",
       " 'Thermostats, Locks and Lights: Digital Tools of Domestic Abuse',\n",
       " 'Over 16 Years, Simon Rattle Transformed the Berlin Philharmonic. Here’s How.',\n",
       " 'Westworld: ‘Westworld’: Jeffrey Wright on Bernard’s Big Revelation and the Joys of Reddit Fandom',\n",
       " 'Activist Confrontations With Trump Officials Divide Democrats',\n",
       " 'Border Officials Suspend Handing Over Migrant Families to Prosecutors',\n",
       " 'She Who Produces the Receipts Controls the Narrative',\n",
       " 'Skin Deep: Exfoliation Tips for the Best Skin Ever',\n",
       " '‘First Reformed’ Asks, Can God Forgive Us? Its Director Has an Answer',\n",
       " 'Josh Brolin Fears the Summer of Josh Brolin',\n",
       " 'Key Question for Judge in Weinstein Case: Can Other Accusers Testify?',\n",
       " 'New York Wants to Know: How Many Separated Children Are Here? What’s Next?',\n",
       " 'World Cup 2018: How Teams Can Advance to the Round of 16',\n",
       " 'Pace of Play Problems Plague College Baseball, Too',\n",
       " '‘Surprised and Dismayed’: Readers Respond to Our Best 25 Plays List',\n",
       " 'British Plays Are Better. There, I Said It.',\n",
       " 'Let the Stream Run Through It',\n",
       " 'Japan’s Hayabusa2 Spacecraft Creeps Up on the Ryugu Asteroid',\n",
       " 'Frank Heart, Who Linked Computers Before the Internet, Dies at 89',\n",
       " 'Donald Hall, a Poet Laureate of the Rural Life, Is Dead at 89',\n",
       " 'Westworld: ‘Westworld’: Jeffrey Wright on Bernard’s Big Revelation and the Joys of Reddit Fandom',\n",
       " 'The Affair: ‘The Affair’ Season 4, Episode 2 Recap: The Mayor of Montauk',\n",
       " 'Personal Health: To Counter Loneliness, Find Ways to Connect',\n",
       " 'A Drug Costs $272,000 a Year. Not So Fast, Says New York State.',\n",
       " 'Trending: 3 New Services That Bring Hotel Amenities to Travelers Not in Hotels',\n",
       " 'Tech Tip: Taking a Vacation From Email',\n",
       " 'Fiction: Surviving AIDS, but at What Cost?',\n",
       " 'Q. & A.: Tell Us 5 Things About Your Book: A Fresh Look at Benedict Arnold’s Treason',\n",
       " 'In the Age of Trump, Civics Courses Make a Comeback',\n",
       " 'Colleges Grapple With Where — or Whether — to Draw the Line on Free Speech',\n",
       " 'From Brewery to Bakery: A Flour That Fights Waste',\n",
       " 'City Kitchen: A Crowd-Pleaser With the Right Stuff',\n",
       " 'Feature: How ‘Desus & Mero’ Conquered Late Night',\n",
       " 'On Dessert: Nothing Satisfies the Need for Crunch Like Biscotti',\n",
       " \"What's Selling Now: Homes that Sold for Around $600,000\",\n",
       " 'Ask Real Estate: Can My Neighbors Really Park Cars on Their Lawns?',\n",
       " 'San Francisco Restaurants Can’t Afford Waiters. So They’re Putting Diners to Work.',\n",
       " 'Americans Love Families. American Policies Don’t.',\n",
       " 'World Cup Soccer’s Spanish Accent Mark: For Mexico and a Times Editor, It’s a Win-Win',\n",
       " 'She Wanted You to See a Family, Not Just a Pregnant Man',\n",
       " 'Elon Musk Accuses Tesla Employee of Sabotage',\n",
       " 'Wheels: Buses, Delivery Vans and Garbage Trucks Are the Electric Vehicles Next Door',\n",
       " 'T’s Best Photos From the Men’s Shows',\n",
       " 'Are Fabricators the Most Important People in the Art World?',\n",
       " 'Homes that Sold for Around $600,000',\n",
       " 'Search for Homes for Sale or Rent',\n",
       " 'Mortgage Calculator']"
      ]
     },
     "execution_count": 20,
     "metadata": {},
     "output_type": "execute_result"
    }
   ],
   "source": [
    "article_titles = [title.strip(\"\\n                         \") for title in article_titles]\n",
    "article_titles"
   ]
  },
  {
   "cell_type": "markdown",
   "metadata": {},
   "source": [
    "## *Exercise 18: Cows and Bulls °°°*\n",
    "Create a program that will play the “cows and bulls” game with the user. The game works like this:\n",
    "\n",
    "Randomly generate a 4-digit number. Ask the user to guess a 4-digit number. For every digit that the user guessed correctly in the correct place, they have a “cow”. For every digit the user guessed correctly in the wrong place is a “bull.” Every time the user makes a guess, tell them how many “cows” and “bulls” they have. Once the user guesses the correct number, the game is over. Keep track of the number of guesses the user makes throughout teh game and tell the user at the end.\n",
    "\n",
    "Say the number generated by the computer is `1038`. An example interaction could look like this:\n",
    "\n",
    "  `Welcome to the Cows and Bulls Game! \n",
    "  Enter a number: \n",
    "  1234\n",
    "  2 cows, 0 bulls\n",
    "  1256\n",
    "  1 cow, 1 bull\n",
    "  ...`\n",
    "\n",
    "Until the user guesses the number.\n",
    "\n",
    "**Dodge's edit: the usage of the \"cows\" and \"bulls\" here is actually backward when compared to the [Wikipedia definition](https://en.wikipedia.org/wiki/Bulls_and_Cows), but I will do it as above for consistency's sake.**"
   ]
  },
  {
   "cell_type": "code",
   "execution_count": 11,
   "metadata": {},
   "outputs": [],
   "source": [
    "import random\n",
    "\n",
    "x = list(str(random.sample(range(1001, 10000), 1)))\n",
    "x.remove(\"[\")\n",
    "x.remove(\"]\")\n",
    "\n",
    "count = 0\n",
    "cows = 0\n",
    "\n",
    "def cows_and_bulls():\n",
    "    z = list(input(\"Please enter 4 digits:\"))\n",
    "    if str(\"\".join(z)) == \"exit\":\n",
    "        print(\"Thanks for the game!\")\n",
    "    else:\n",
    "        cows = 0\n",
    "        bulls = 0\n",
    "\n",
    "        for i in range(4):\n",
    "            for j in range(4):\n",
    "                if z[i] == x[j]:\n",
    "                    if i == j:\n",
    "                        cows += 1\n",
    "                    elif z[j] == x[j]:\n",
    "                        bulls == bulls      \n",
    "                    else:\n",
    "                        bulls += 1\n",
    "\n",
    "        print(\"Cows:  \" + str(cows))\n",
    "        print(\"Bulls: \" + str(bulls))\n",
    "\n",
    "    while cows < 4:\n",
    "        cows_and_bulls()\n",
    "        count += 1\n",
    "\n",
    "    if cows == 4:\n",
    "        print(\"Congrats! You guessed \" + str(count) + \" times.\")"
   ]
  },
  {
   "cell_type": "markdown",
   "metadata": {},
   "source": [
    "## *Exercise 19: Decode a Web Page 2 °°°*\n",
    "Using the `requests` and `BeautifulSoup` Python libraries, print to the screen the full text of the article on this website: http://www.vanityfair.com/society/2014/06/monica-lewinsky-humiliation-culture.\n",
    "\n",
    "The article is long, so it is split up between 4 pages. Your task is to print out the text to the screen so that you can read the full article without having to click any buttons."
   ]
  }
 ],
 "metadata": {
  "kernelspec": {
   "display_name": "Python 3",
   "language": "python",
   "name": "python3"
  },
  "language_info": {
   "codemirror_mode": {
    "name": "ipython",
    "version": 3
   },
   "file_extension": ".py",
   "mimetype": "text/x-python",
   "name": "python",
   "nbconvert_exporter": "python",
   "pygments_lexer": "ipython3",
   "version": "3.6.3"
  }
 },
 "nbformat": 4,
 "nbformat_minor": 2
}
