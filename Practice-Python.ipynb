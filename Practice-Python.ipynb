{
 "cells": [
  {
   "cell_type": "markdown",
   "metadata": {},
   "source": [
    "# Solutions for problems on [practicepython.org](http://www.practicepython.org/)"
   ]
  },
  {
   "cell_type": "markdown",
   "metadata": {},
   "source": [
    "## *Exercise 1:*\n",
    "Create a program that asks the user to enter their name and their age. Print out a message addressed to them that tells them the year that they will turn 100 years old.\n",
    "\n",
    "Extras:\n",
    "- Add on to the previous program by asking the user for another number and printing out that many copies of the previous message.\n",
    "- Print out that many copies of the previous message on separate lines."
   ]
  },
  {
   "cell_type": "code",
   "execution_count": 12,
   "metadata": {},
   "outputs": [
    {
     "name": "stdout",
     "output_type": "stream",
     "text": [
      "Please enter your name: Dodge\n",
      "How old are you? 26\n",
      "Dodge, you will turn 100 in the year 2092.\n"
     ]
    }
   ],
   "source": [
    "name = input('Please enter your name: ')\n",
    "age = input('How old are you? ')\n",
    "year_100 = (100- int(age)) + 2018\n",
    "print(name + \", you will turn 100 in the year {}.\".format(year_100))"
   ]
  }
 ],
 "metadata": {
  "kernelspec": {
   "display_name": "Python 3",
   "language": "python",
   "name": "python3"
  },
  "language_info": {
   "codemirror_mode": {
    "name": "ipython",
    "version": 3
   },
   "file_extension": ".py",
   "mimetype": "text/x-python",
   "name": "python",
   "nbconvert_exporter": "python",
   "pygments_lexer": "ipython3",
   "version": "3.6.3"
  }
 },
 "nbformat": 4,
 "nbformat_minor": 2
}
