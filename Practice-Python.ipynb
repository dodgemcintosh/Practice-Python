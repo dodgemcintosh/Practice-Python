{
 "cells": [
  {
   "cell_type": "markdown",
   "metadata": {},
   "source": [
    "# Solutions for problems on [practicepython.org](http://www.practicepython.org/)\n",
    "### Each `°` is used instead of the \"chili rating\" from the website"
   ]
  },
  {
   "cell_type": "markdown",
   "metadata": {},
   "source": [
    "## *Exercise 1: Character Input °*\n",
    "Create a program that asks the user to enter their name and their age. Print out a message addressed to them that tells them the year that they will turn 100 years old.\n",
    "\n",
    "Extras:\n",
    "- Add on to the previous program by asking the user for another number and printing out that many copies of the previous message.\n",
    "- Print out that many copies of the previous message on separate lines."
   ]
  },
  {
   "cell_type": "code",
   "execution_count": 2,
   "metadata": {},
   "outputs": [
    {
     "name": "stdout",
     "output_type": "stream",
     "text": [
      "Please enter your name: Dodge\n",
      "How old are you? 26\n",
      "What's your favorite number? 8\n",
      "Dodge, you will turn 100 in the year 2092.\n",
      "Dodge, you will turn 100 in the year 2092.\n",
      "Dodge, you will turn 100 in the year 2092.\n",
      "Dodge, you will turn 100 in the year 2092.\n",
      "Dodge, you will turn 100 in the year 2092.\n",
      "Dodge, you will turn 100 in the year 2092.\n",
      "Dodge, you will turn 100 in the year 2092.\n",
      "Dodge, you will turn 100 in the year 2092.\n",
      "\n"
     ]
    }
   ],
   "source": [
    "name = input('Please enter your name: ')\n",
    "age = input('How old are you? ')\n",
    "copies = input(\"What's your favorite single-digit number? \")\n",
    "year_100 = (100- int(age)) + 2018\n",
    "print((name + \", you will turn 100 in the year {}.\\n\".format(year_100)) * int(copies))"
   ]
  },
  {
   "cell_type": "markdown",
   "metadata": {},
   "source": [
    "## *Exercise 2: Odd or Even °*\n",
    "Ask the user for a number. Depending on whether the number is even or odd, print out an appropriate message to the user.\n",
    "\n",
    "Extras:\n",
    "\n",
    "- If the number is a multiple of 4, print out a different message.\n",
    "- Ask the user for two numbers: one number to check (call it num) and one number to divide by (check). If check divides evenly into num, tell that to the user. If not, print a different appropriate message."
   ]
  },
  {
   "cell_type": "code",
   "execution_count": null,
   "metadata": {},
   "outputs": [],
   "source": [
    "num = int(input(\"What is your favorite number? \"))\n",
    "check = int(input(\"What's your least favorite number? \"))\n",
    "\n",
    "if num % check == 0:\n",
    "    print(\"Wowww your least favorite number divides evenly into your favorite number!\")\n",
    "elif num % 4 == 0:\n",
    "    print(\"Nice. Your favorite number is divisible by 4 and your least favorite number doesn't divide evenly into it.\")\n",
    "elif num % 2 == 0:\n",
    "    print(\"Your favorite number is even and your least favorite number doesn't divide evenly into it.\")\n",
    "else:\n",
    "    print(\"Your favorite number is odd, you oddball! And your least favorite number doesn't divide evenly into it.\")"
   ]
  },
  {
   "cell_type": "markdown",
   "metadata": {},
   "source": [
    "## *Exercise 3: List Less Than Ten °°*\n",
    "Take a list, say for example this one:\n",
    "\n",
    "`a = [1, 1, 2, 3, 5, 8, 13, 21, 34, 55, 89]`\n",
    "\n",
    "and write a program that prints out all the elements of the list that are less than 5.\n",
    "\n",
    "Extras:\n",
    "- Instead of printing the elements one by one, make a new list that has all the elements less than 5 from this list in it and print out this new list.\n",
    "- Write this in one line of Python.\n",
    "- Ask the user for a number and return a list that contains only elements from the original list a that are smaller than that number given by the user."
   ]
  },
  {
   "cell_type": "code",
   "execution_count": 3,
   "metadata": {},
   "outputs": [],
   "source": [
    "a = [1, 1, 2, 3, 5, 8, 13, 21, 34, 55, 89]"
   ]
  },
  {
   "cell_type": "code",
   "execution_count": 6,
   "metadata": {},
   "outputs": [
    {
     "data": {
      "text/plain": [
       "[1, 1, 2, 3, 5]"
      ]
     },
     "execution_count": 6,
     "metadata": {},
     "output_type": "execute_result"
    }
   ],
   "source": [
    "new_list = []\n",
    "for number in a:\n",
    "    if number < 8:\n",
    "        new_list.append(number)\n",
    "new_list"
   ]
  },
  {
   "cell_type": "code",
   "execution_count": 8,
   "metadata": {},
   "outputs": [
    {
     "data": {
      "text/plain": [
       "[2, 8, 34]"
      ]
     },
     "execution_count": 8,
     "metadata": {},
     "output_type": "execute_result"
    }
   ],
   "source": [
    "[number for number in a if number % 2 == 0]"
   ]
  },
  {
   "cell_type": "code",
   "execution_count": null,
   "metadata": {},
   "outputs": [],
   "source": []
  },
  {
   "cell_type": "code",
   "execution_count": null,
   "metadata": {},
   "outputs": [],
   "source": []
  },
  {
   "cell_type": "code",
   "execution_count": null,
   "metadata": {},
   "outputs": [],
   "source": []
  },
  {
   "cell_type": "code",
   "execution_count": null,
   "metadata": {},
   "outputs": [],
   "source": []
  },
  {
   "cell_type": "code",
   "execution_count": null,
   "metadata": {},
   "outputs": [],
   "source": []
  },
  {
   "cell_type": "code",
   "execution_count": null,
   "metadata": {},
   "outputs": [],
   "source": []
  },
  {
   "cell_type": "code",
   "execution_count": null,
   "metadata": {},
   "outputs": [],
   "source": []
  },
  {
   "cell_type": "code",
   "execution_count": null,
   "metadata": {},
   "outputs": [],
   "source": []
  },
  {
   "cell_type": "code",
   "execution_count": null,
   "metadata": {},
   "outputs": [],
   "source": []
  },
  {
   "cell_type": "code",
   "execution_count": null,
   "metadata": {},
   "outputs": [],
   "source": []
  },
  {
   "cell_type": "code",
   "execution_count": null,
   "metadata": {},
   "outputs": [],
   "source": []
  },
  {
   "cell_type": "code",
   "execution_count": null,
   "metadata": {},
   "outputs": [],
   "source": []
  },
  {
   "cell_type": "code",
   "execution_count": null,
   "metadata": {},
   "outputs": [],
   "source": []
  },
  {
   "cell_type": "code",
   "execution_count": null,
   "metadata": {},
   "outputs": [],
   "source": []
  },
  {
   "cell_type": "code",
   "execution_count": null,
   "metadata": {},
   "outputs": [],
   "source": []
  },
  {
   "cell_type": "code",
   "execution_count": null,
   "metadata": {},
   "outputs": [],
   "source": [
    "a = [1, 1, 2, 3, 5, 8, 13, 21, 34, 55, 89]\n",
    "new = []\n",
    "check = int(input(\"What is your favorite number? \"))\n",
    "[new.append(num) for num in a if num < check]\n",
    "new"
   ]
  },
  {
   "cell_type": "markdown",
   "metadata": {},
   "source": [
    "## *Exercise 4: Divisors °°*\n",
    "Create a program that asks the user for a number and then prints out a list of all the divisors of that number. (If you don’t know what a divisor is, it is a number that divides evenly into another number. For example, 13 is a divisor of 26 because 26 / 13 has no remainder.)"
   ]
  },
  {
   "cell_type": "code",
   "execution_count": null,
   "metadata": {},
   "outputs": [],
   "source": [
    "number = int(input(\"Please feed me a number, human: \"))\n",
    "divisors = []\n",
    "[divisors.append(x) for x in range(1, (number + 1)) if number % x == 0]\n",
    "print(\"The divisors of {} are {}.\".format(number, divisors))"
   ]
  },
  {
   "cell_type": "markdown",
   "metadata": {},
   "source": [
    "## *Exercise 5: List Overlap °°*\n",
    "Take two lists, say for example these two:\n",
    "\n",
    "`a = [1, 1, 2, 3, 5, 8, 13, 21, 34, 55, 89]`\n",
    "\n",
    "`b = [1, 2, 3, 4, 5, 6, 7, 8, 9, 10, 11, 12, 13]`\n",
    "  \n",
    "and write a program that returns a list that contains only the elements that are common between the lists (without duplicates). Make sure your program works on two lists of different sizes.\n",
    "\n",
    "Extras:\n",
    "- Randomly generate two lists to test this\n",
    "- Write this in one line of Python (don’t worry if you can’t figure this out at this point - we’ll get to it soon)"
   ]
  },
  {
   "cell_type": "code",
   "execution_count": 12,
   "metadata": {},
   "outputs": [
    {
     "data": {
      "text/plain": [
       "[1, 1, 2, 3, 5, 8, 13, 21, 34, 55, 89]"
      ]
     },
     "execution_count": 12,
     "metadata": {},
     "output_type": "execute_result"
    }
   ],
   "source": [
    "a"
   ]
  },
  {
   "cell_type": "code",
   "execution_count": 10,
   "metadata": {},
   "outputs": [],
   "source": [
    "b = [1, 2, 3, 4, 5, 6, 7, 8, 9, 10, 11, 12, 13]"
   ]
  },
  {
   "cell_type": "code",
   "execution_count": 13,
   "metadata": {},
   "outputs": [
    {
     "name": "stdout",
     "output_type": "stream",
     "text": [
      "11\n",
      "13\n"
     ]
    }
   ],
   "source": [
    "print(len(a))\n",
    "print(len(b))"
   ]
  },
  {
   "cell_type": "code",
   "execution_count": 11,
   "metadata": {},
   "outputs": [
    {
     "data": {
      "text/plain": [
       "[21, 34, 55, 89]"
      ]
     },
     "execution_count": 11,
     "metadata": {},
     "output_type": "execute_result"
    }
   ],
   "source": [
    "[num for num in a if num not in b]"
   ]
  },
  {
   "cell_type": "code",
   "execution_count": null,
   "metadata": {},
   "outputs": [],
   "source": []
  },
  {
   "cell_type": "code",
   "execution_count": null,
   "metadata": {},
   "outputs": [],
   "source": []
  },
  {
   "cell_type": "code",
   "execution_count": null,
   "metadata": {},
   "outputs": [],
   "source": []
  },
  {
   "cell_type": "code",
   "execution_count": null,
   "metadata": {},
   "outputs": [],
   "source": []
  },
  {
   "cell_type": "code",
   "execution_count": null,
   "metadata": {},
   "outputs": [],
   "source": []
  },
  {
   "cell_type": "code",
   "execution_count": null,
   "metadata": {},
   "outputs": [],
   "source": []
  },
  {
   "cell_type": "code",
   "execution_count": null,
   "metadata": {},
   "outputs": [],
   "source": []
  },
  {
   "cell_type": "code",
   "execution_count": null,
   "metadata": {},
   "outputs": [],
   "source": [
    "import random\n",
    "a = random.sample(range(10), 10)\n",
    "b = random.sample(range(10), 7)\n",
    "print(\"List a: \",a)\n",
    "print(\"List b: \",b)\n",
    "print(\"The common elements in a and b are: {}\".format(list(set([num for num in a if num in b]))))"
   ]
  },
  {
   "cell_type": "markdown",
   "metadata": {},
   "source": [
    "## *Exercise 6: String Lists °°*\n",
    "Ask the user for a string and print out whether this string is a palindrome or not. (A palindrome is a string that reads the same forwards and backwards.)"
   ]
  },
  {
   "cell_type": "code",
   "execution_count": null,
   "metadata": {},
   "outputs": [],
   "source": [
    "info = input(\"Please give me a string: \").lower().replace(\" \", \"\")\n",
    "if info[:] == info[::-1]:\n",
    "    print(\"{} is a palindrome!\".format(info))\n",
    "else:\n",
    "    print(\"That's not a palindrome, try again!\")"
   ]
  },
  {
   "cell_type": "markdown",
   "metadata": {},
   "source": [
    "## *Exercise 7: List Comprehensions °°*\n",
    "Let’s say I give you a list saved in a variable: `a = [1, 4, 9, 16, 25, 36, 49, 64, 81, 100]`. Write one line of Python that takes this list `a` and makes a new list that has only the even elements of this list in it."
   ]
  },
  {
   "cell_type": "code",
   "execution_count": null,
   "metadata": {},
   "outputs": [],
   "source": [
    "a = [1, 4, 9, 16, 25, 36, 49, 64, 81, 100]\n",
    "b = [num for num in a if num%2 == 0]\n",
    "b"
   ]
  },
  {
   "cell_type": "markdown",
   "metadata": {},
   "source": [
    "## *Exercise 8: Rock Paper Scissors °°°*\n",
    "Make a two-player Rock-Paper-Scissors game. (Hint: Ask for player plays (using input), compare them, print out a message of congratulations to the winner, and ask if the players want to start a new game)\n",
    "\n",
    "Remember the rules:\n",
    "- Rock beats scissors\n",
    "- Scissors beats paper\n",
    "- Paper beats rock"
   ]
  },
  {
   "cell_type": "code",
   "execution_count": null,
   "metadata": {},
   "outputs": [],
   "source": [
    "player_1 = input(\"Player 1, please play your hand: \").lower()\n",
    "player_2 = input(\"Player 2, please play your hand: \").lower()\n",
    "\n",
    "def compare_hand(u1,u2):\n",
    "    if u1 == u2:\n",
    "        return(\"It's a tie!\")\n",
    "    elif u1 == 'rock':\n",
    "        if u2 == 'scissors':\n",
    "            return(\"Player 1 wins!\")\n",
    "        else:\n",
    "            return(\"Player 2 wins!\")\n",
    "    elif u1 == 'scissors':\n",
    "        if u2 == 'paper':\n",
    "            return(\"Player 1 wins!\")\n",
    "        else:\n",
    "            return(\"Player 2 wins!\")\n",
    "    elif u1 == 'paper':\n",
    "        if u2 == 'rock':\n",
    "            return(\"Player 1 wins!\")\n",
    "        else:\n",
    "            return(\"Player 2 wins!\")\n",
    "    else:\n",
    "        return(\"Invalid input! You have not entered rock, paper or scissors, try again.\")\n",
    "        sys.exit()\n",
    "\n",
    "print(compare_hand(player_1, player_2))\n",
    "\n",
    "while input(\"Would you like to play again (y/n): \") == 'y':\n",
    "    player_1 = input(\"Player 1, please play your hand: \").lower()\n",
    "    player_2 = input(\"Player 2, please play your hand: \").lower()\n",
    "    print(compare_hand(player_1, player_2))"
   ]
  },
  {
   "cell_type": "markdown",
   "metadata": {},
   "source": [
    "## *Exercise 9: Guessing Game One °°°*\n",
    "Generate a random number between 1 and 9 (including 1 and 9). Ask the user to guess the number, then tell them whether they guessed too low, too high, or exactly right.\n",
    "\n",
    "Extras:\n",
    "- Keep the game going until the user types “exit”\n",
    "- Keep track of how many guesses the user has taken, and when the game ends, print this out."
   ]
  },
  {
   "cell_type": "code",
   "execution_count": null,
   "metadata": {},
   "outputs": [],
   "source": [
    "import random\n",
    "\n",
    "num = random.randint(1,9)\n",
    "guess = 0\n",
    "count = 0\n",
    "\n",
    "while guess != num and guess != 'exit':\n",
    "    guess = input(\"Pick a number between 1 and 9. (Type 'exit' to quit.)\")\n",
    "    if guess == 'exit':\n",
    "        break\n",
    "    \n",
    "    guess = int(guess)\n",
    "    count += 1\n",
    "    \n",
    "    if guess < num:\n",
    "        print(\"Too low...\")\n",
    "    elif guess > num:\n",
    "        print(\"Too high...\")\n",
    "    else:\n",
    "        print(\"You got it! And it only took you {} tries!\".format(count))"
   ]
  },
  {
   "cell_type": "markdown",
   "metadata": {},
   "source": [
    "## *Exercise 10: List Overlap Comprehension °°*\n",
    "Essentially the same as Exercise 5. See that solution and problem."
   ]
  },
  {
   "cell_type": "markdown",
   "metadata": {},
   "source": [
    "## *Exercise 11: Check Primality Functions °°°*\n",
    "Ask the user for a number and determine whether the number is prime or not. (For those who have forgotten, a prime number is a number that has no divisors.). You can (and should!) use your answer to Exercise 4 to help you."
   ]
  },
  {
   "cell_type": "code",
   "execution_count": null,
   "metadata": {
    "scrolled": true
   },
   "outputs": [],
   "source": [
    "def is_prime(n):\n",
    "    \n",
    "    if n == 2 or n == 3: return True\n",
    "    if n < 2 or n%2 == 0: return False\n",
    "    if n < 9: return True\n",
    "    if n%3 == 0: return False\n",
    "    r = int(n**0.5)\n",
    "    f = 5\n",
    "    while f <= r:\n",
    "#         print ('\\t',f)\n",
    "        if n%f == 0: return False\n",
    "        if n%(f+2) == 0: return False\n",
    "        f +=6\n",
    "    return True\n",
    "\n",
    "check = int(input(\"Give me a number that you're curious about being prime or not: \"))\n",
    "if is_prime(check) == True:\n",
    "    print(\"{} is prime!\".format(check))\n",
    "else:\n",
    "    print(\"Not a prime number, sorry!\")"
   ]
  },
  {
   "cell_type": "markdown",
   "metadata": {},
   "source": [
    "## *Exercise 12: List Ends °*\n",
    "Write a program that takes a list of numbers (for example, `a = [5, 10, 15, 20, 25]`) and makes a new list of only the first and last elements of the given list. For practice, write this code inside a function."
   ]
  },
  {
   "cell_type": "code",
   "execution_count": null,
   "metadata": {},
   "outputs": [],
   "source": [
    "def get_bookends(array):\n",
    "    if len(array) < 2:\n",
    "        return \"Feed me a longer list!\"\n",
    "    else:\n",
    "        return [array[0], array[-1]]"
   ]
  },
  {
   "cell_type": "code",
   "execution_count": null,
   "metadata": {
    "scrolled": true
   },
   "outputs": [],
   "source": [
    "a = [5, 10, 15, 20, 25]\n",
    "b = [1]\n",
    "get_bookends(b)"
   ]
  },
  {
   "cell_type": "markdown",
   "metadata": {},
   "source": [
    "## *Exercise 13: Fibonacci °°*\n",
    "Write a program that asks the user how many Fibonnaci numbers to generate and then generates them. Take this opportunity to think about how you can use functions. Make sure to ask the user to enter the number of numbers in the sequence to generate.\n",
    "- (**Hint**: The Fibonnaci seqence is a sequence of numbers where the next number in the sequence is the sum of the previous two numbers in the sequence. The sequence looks like this: 1, 1, 2, 3, 5, 8, 13, …)"
   ]
  },
  {
   "cell_type": "code",
   "execution_count": null,
   "metadata": {},
   "outputs": [],
   "source": [
    "def fibonnaci_generator():\n",
    "    numbers = int(input(\"How many Fibonacci numbers would you like to see generated? \"))\n",
    "    if numbers == 0:\n",
    "        return []\n",
    "    elif numbers == 1:\n",
    "        return [1]\n",
    "    elif numbers == 2:\n",
    "        return [1,1]\n",
    "    elif numbers > 2:\n",
    "        sequence = [1,1]\n",
    "        while len(sequence) < numbers:\n",
    "            sequence.append((sequence[-1] + sequence[-2]))\n",
    "        return sequence"
   ]
  },
  {
   "cell_type": "code",
   "execution_count": null,
   "metadata": {},
   "outputs": [],
   "source": [
    "fibonnaci_generator()"
   ]
  },
  {
   "cell_type": "markdown",
   "metadata": {},
   "source": [
    "## *Exercise 14: List Remove Duplicates °°*\n",
    "Write a program (function!) that takes a list and returns a new list that contains all the elements of the first list minus all the duplicates.\n",
    "\n",
    "Extras:\n",
    "- Write two different functions to do this - one using a loop and constructing a list, and another using sets."
   ]
  },
  {
   "cell_type": "code",
   "execution_count": null,
   "metadata": {},
   "outputs": [],
   "source": [
    "# Using a loop and constructing a list\n",
    "def remove_duplicates(array):\n",
    "    new = []\n",
    "    for x in array:\n",
    "        if x not in new:\n",
    "            new.append(x)\n",
    "    return new\n",
    "\n",
    "a = [1,3,5,7,9,7,7]\n",
    "remove_duplicates(a)"
   ]
  },
  {
   "cell_type": "code",
   "execution_count": null,
   "metadata": {},
   "outputs": [],
   "source": [
    "# Using sets, much more efficient method\n",
    "def remove_duplicates(array):\n",
    "    return list(set(array))\n",
    "\n",
    "remove_duplicates(a)"
   ]
  },
  {
   "cell_type": "markdown",
   "metadata": {},
   "source": [
    "## *Exercise 15: Reverse Word Order °°°*\n",
    "Write a program (using functions!) that asks the user for a long string containing multiple words. Print back to the user the same string, except with the words in backwards order. For example, say I type the string:\n",
    "\n",
    "`My name is Michele`\n",
    "\n",
    "Then I would see the string:\n",
    "\n",
    "`Michele is name My`\n",
    "\n",
    "shown back to me."
   ]
  },
  {
   "cell_type": "code",
   "execution_count": null,
   "metadata": {},
   "outputs": [],
   "source": [
    "def reverse_word_order(long_string):\n",
    "    return \" \".join(long_string.split()[::-1])\n",
    "\n",
    "reverse_word_order(\"Do or do not there is not try\")"
   ]
  },
  {
   "cell_type": "markdown",
   "metadata": {},
   "source": [
    "## *Exercise 16: Password Generator °°°°*\n",
    "Write a password generator in Python. Be creative with how you generate passwords - strong passwords have a mix of lowercase letters, uppercase letters, numbers, and symbols. The passwords should be random, generating a new password every time the user asks for a new password. Include your run-time code in a main method.\n",
    "\n",
    "Extra:\n",
    "- Ask the user how strong they want their password to be. For weak passwords, pick a word or two from a list."
   ]
  },
  {
   "cell_type": "code",
   "execution_count": null,
   "metadata": {},
   "outputs": [],
   "source": [
    "import random\n",
    "import string\n",
    "def password_generator():\n",
    "    length = int(input(\"How many characters long do you want your password to be? (Between 5 and 20) \"))\n",
    "    pass_list = [random.choice(string.printable) for x in list(range(1,length))]\n",
    "    pass_list.append(str(random.randint(1,9)))\n",
    "    pass_list.append(random.choice(string.ascii_uppercase))\n",
    "    pass_list.append(random.choice(string.ascii_uppercase))\n",
    "    password = \"\".join(pass_list)\n",
    "    return \"Your password is {}. Keep it secret, keep it safe.\".format(password)"
   ]
  },
  {
   "cell_type": "code",
   "execution_count": null,
   "metadata": {
    "scrolled": true
   },
   "outputs": [],
   "source": [
    "password_generator()"
   ]
  },
  {
   "cell_type": "markdown",
   "metadata": {},
   "source": [
    "## *Exercise 17: Decode a Web Page °°°°*\n",
    "Use the `BeautifulSoup` and `requests` Python packages to print out a list of all the article titles on the New York Times homepage."
   ]
  },
  {
   "cell_type": "code",
   "execution_count": null,
   "metadata": {},
   "outputs": [],
   "source": [
    "import requests\n",
    "from bs4 import BeautifulSoup\n",
    "\n",
    "r = requests.get('https://www.nytimes.com/')\n",
    "soup = BeautifulSoup(r.text, 'lxml')"
   ]
  },
  {
   "cell_type": "code",
   "execution_count": null,
   "metadata": {},
   "outputs": [],
   "source": [
    "article_titles = []\n",
    "for article in soup.find_all('h2', {'class': 'story-heading'}):\n",
    "    article_titles.append(article.text)"
   ]
  },
  {
   "cell_type": "code",
   "execution_count": null,
   "metadata": {},
   "outputs": [],
   "source": [
    "article_titles = [title.strip(\"\\n                         \") for title in article_titles]\n",
    "article_titles"
   ]
  },
  {
   "cell_type": "markdown",
   "metadata": {},
   "source": [
    "## *Exercise 18: Cows and Bulls °°°*\n",
    "Create a program that will play the “cows and bulls” game with the user. The game works like this:\n",
    "\n",
    "Randomly generate a 4-digit number. Ask the user to guess a 4-digit number. For every digit that the user guessed correctly in the correct place, they have a “cow”. For every digit the user guessed correctly in the wrong place is a “bull.” Every time the user makes a guess, tell them how many “cows” and “bulls” they have. Once the user guesses the correct number, the game is over. Keep track of the number of guesses the user makes throughout teh game and tell the user at the end.\n",
    "\n",
    "Say the number generated by the computer is `1038`. An example interaction could look like this:\n",
    "\n",
    "  `Welcome to the Cows and Bulls Game! \n",
    "  Enter a number: \n",
    "  1234\n",
    "  2 cows, 0 bulls\n",
    "  1256\n",
    "  1 cow, 1 bull\n",
    "  ...`\n",
    "\n",
    "Until the user guesses the number.\n",
    "\n",
    "**Dodge's edit: the usage of the \"cows\" and \"bulls\" here is actually backward when compared to the [Wikipedia definition](https://en.wikipedia.org/wiki/Bulls_and_Cows), but I will do it as above for consistency's sake.**"
   ]
  },
  {
   "cell_type": "code",
   "execution_count": null,
   "metadata": {},
   "outputs": [],
   "source": [
    "import random\n",
    "\n",
    "x = list(str(random.sample(range(1001, 10000), 1)))\n",
    "x.remove(\"[\")\n",
    "x.remove(\"]\")\n",
    "\n",
    "count = 0\n",
    "cows = 0\n",
    "\n",
    "def cows_and_bulls():\n",
    "    z = list(input(\"Please enter 4 digits:\"))\n",
    "    if str(\"\".join(z)) == \"exit\":\n",
    "        print(\"Thanks for the game!\")\n",
    "    else:\n",
    "        cows = 0\n",
    "        bulls = 0\n",
    "\n",
    "        for i in range(4):\n",
    "            for j in range(4):\n",
    "                if z[i] == x[j]:\n",
    "                    if i == j:\n",
    "                        cows += 1\n",
    "                    elif z[j] == x[j]:\n",
    "                        bulls == bulls      \n",
    "                    else:\n",
    "                        bulls += 1\n",
    "\n",
    "        print(\"Cows:  \" + str(cows))\n",
    "        print(\"Bulls: \" + str(bulls))\n",
    "\n",
    "    while cows < 4:\n",
    "        cows_and_bulls()\n",
    "        count += 1\n",
    "\n",
    "    if cows == 4:\n",
    "        print(\"Congrats! You guessed \" + str(count) + \" times.\")"
   ]
  },
  {
   "cell_type": "markdown",
   "metadata": {},
   "source": [
    "## *Exercise 19: Decode a Web Page 2 °°°°*\n",
    "Using the `requests` and `BeautifulSoup` Python libraries, print to the screen the full text of the article on this website: http://www.vanityfair.com/society/2014/06/monica-lewinsky-humiliation-culture.\n",
    "\n",
    "The article is long, so it is split up between 4 pages. Your task is to print out the text to the screen so that you can read the full article without having to click any buttons."
   ]
  },
  {
   "cell_type": "code",
   "execution_count": null,
   "metadata": {},
   "outputs": [],
   "source": [
    "import requests\n",
    "from bs4 import BeautifulSoup\n",
    "\n",
    "r = requests.get('http://www.vanityfair.com/society/2014/06/monica-lewinsky-humiliation-culture')\n",
    "soup = BeautifulSoup(r.text, 'lxml')\n",
    "\n",
    "for segment in soup.find_all('p'):\n",
    "    print('\\n' + segment.text)"
   ]
  },
  {
   "cell_type": "markdown",
   "metadata": {},
   "source": [
    "## *Exercise 20: Element Search °*\n",
    "Write a function that takes an ordered list of numbers (a list where the elements are in order from smallest to largest) and another number. The function decides whether or not the given number is inside the list and returns (then prints) an appropriate boolean.\n",
    "\n",
    "Extras:\n",
    "- Use binary search."
   ]
  },
  {
   "cell_type": "code",
   "execution_count": null,
   "metadata": {},
   "outputs": [],
   "source": [
    "def element_search(ordered_list, check):\n",
    "    if check in ordered_list:\n",
    "        return True\n",
    "    else:\n",
    "        return False\n",
    "\n",
    "element_search([1,2,3,6,7,123,567,39072956], 123)"
   ]
  },
  {
   "cell_type": "code",
   "execution_count": null,
   "metadata": {
    "scrolled": true
   },
   "outputs": [],
   "source": [
    "# And now attempting to use binary search:\n",
    "\n",
    "def element_search(ordered_list, check):\n",
    "    start = 0\n",
    "    end = len(ordered_list) -1\n",
    "    while True:\n",
    "        middle_index = int((end + start) / 2)\n",
    "        middle_element = ordered_list[middle_index]\n",
    "        if middle_element == check or ordered_list[start]==check or ordered_list[end]==check:\n",
    "            return True\n",
    "            break\n",
    "        if middle_index == start or middle_index == end or middle_index == 0:\n",
    "            return False\n",
    "            break\n",
    "        elif middle_element > check:\n",
    "            end_index = middle_index\n",
    "        else:\n",
    "            start_index = middle_index\n",
    "            \n",
    "element_search([1,2,3,6,7,123,567,39072956], 123)"
   ]
  },
  {
   "cell_type": "markdown",
   "metadata": {},
   "source": [
    "## *Exercise 21: Write to a File °*\n",
    "Take the code from the How To Decode A Website exercise (if you didn’t do it or just want to play with some different code, use the code from the solution), and instead of printing the results to a screen, write the results to a `txt` file. In your code, just make up a name for the file you are saving to.\n",
    "\n",
    "Extras:\n",
    "\n",
    "- Ask the user to specify the name of the output file that will be saved."
   ]
  },
  {
   "cell_type": "code",
   "execution_count": null,
   "metadata": {},
   "outputs": [],
   "source": [
    "import requests\n",
    "from bs4 import BeautifulSoup\n",
    "\n",
    "r = requests.get('http://www.vanityfair.com/society/2014/06/monica-lewinsky-humiliation-culture')\n",
    "soup = BeautifulSoup(r.text, 'lxml')\n",
    "\n",
    "body_text_list = []\n",
    "for segment in soup.find_all('p'):\n",
    "    body_text_list.append('\\n' + segment.text)\n",
    "\n",
    "body_text = ''.join(body_text_list)\n",
    "file_name = input(\"What would you like to name the file? \") + '.txt'\n",
    "with open(file_name, 'w') as open_file:\n",
    "    open_file.write(body_text)"
   ]
  },
  {
   "cell_type": "markdown",
   "metadata": {},
   "source": [
    "## *Exercise 22: Read from a File °*\n",
    "Given a .txt file that has a list of a bunch of names, count how many of each name there are in the file, and print out the results to the screen. I have a .txt file for you, if you want to use it!\n",
    "\n",
    "Extra:\n",
    "- Instead of using the .txt file from above (or instead of, if you want the challenge), take this .txt file, and count how many of each “category” of each image there are. This text file is actually a list of files corresponding to the SUN database scene recognition database, and lists the file directory hierarchy for the images. Once you take a look at the first line or two of the file, it will be clear which part represents the scene category. To do this, you’re going to have to remember a bit about string parsing in Python 3. I talked a little bit about it in this post."
   ]
  },
  {
   "cell_type": "code",
   "execution_count": null,
   "metadata": {},
   "outputs": [],
   "source": []
  },
  {
   "cell_type": "markdown",
   "metadata": {},
   "source": [
    "## *Exercise 23: File Overlap °°*\n",
    "Blah blah blah"
   ]
  },
  {
   "cell_type": "code",
   "execution_count": null,
   "metadata": {},
   "outputs": [],
   "source": []
  },
  {
   "cell_type": "markdown",
   "metadata": {},
   "source": [
    "## *Exercise 24: Draw a Game Board °°*\n",
    "This exercise is Part 1 of 4 of the Tic Tac Toe exercise series. The other exercises are: Part 2, Part 3, and Part 4.\n",
    "\n",
    "Time for some fake graphics! Let’s say we want to draw game boards that look like [this](http://www.practicepython.org/exercise/2014/12/27/24-draw-a-game-board.html):\n",
    "\n",
    "\n",
    "This one is 3x3 (like in tic tac toe). Obviously, they come in many other sizes (8x8 for chess, 19x19 for Go, and many more).\n",
    "\n",
    "Ask the user what size game board they want to draw, and draw it for them to the screen using Python’s print statement.\n",
    "\n",
    "Remember that in Python 3, printing to the screen is accomplished by\n",
    "\n",
    "`print(\"Thing to show on screen\")`"
   ]
  },
  {
   "cell_type": "code",
   "execution_count": null,
   "metadata": {},
   "outputs": [],
   "source": [
    "def draw_gameboard():\n",
    "    board_size = int(input(\"What size of game board? \"))\n",
    "    print(' --- ' * board_size)"
   ]
  },
  {
   "cell_type": "code",
   "execution_count": null,
   "metadata": {
    "scrolled": true
   },
   "outputs": [],
   "source": [
    "draw_gameboard()"
   ]
  },
  {
   "cell_type": "markdown",
   "metadata": {},
   "source": [
    "# Exercise 25: Guessing Game 2 °°°°\n",
    "In a previous exercise, we’ve written a program that “knows” a number and asks a user to guess it.\n",
    "\n",
    "This time, we’re going to do exactly the opposite. You, the user, will have in your head a number between 0 and 100. The program will guess a number, and you, the user, will say whether it is too high, too low, or your number.\n",
    "\n",
    "At the end of this exchange, your program should print out how many guesses it took to get your number.\n",
    "\n",
    "As the writer of this program, you will have to choose how your program will strategically guess. A naive strategy can be to simply start the guessing at 1, and keep going (2, 3, 4, etc.) until you hit the number. But that’s not an optimal guessing strategy. An alternate strategy might be to guess 50 (right in the middle of the range), and then increase / decrease by 1 as needed. After you’ve written the program, try to find the optimal strategy! (We’ll talk about what is the optimal one next week with the solution.)"
   ]
  },
  {
   "cell_type": "code",
   "execution_count": null,
   "metadata": {},
   "outputs": [],
   "source": [
    "import random\n",
    "\n",
    "correct = int(input(\"Pick a number between 0 and 100: \"))\n",
    "\n",
    "num_guesses = 0\n",
    "guess = random.randint(0,100)\n",
    "\n",
    "while guess != correct:\n",
    "    num_guesses += 1\n",
    "    \n",
    "    if guess > correct:\n",
    "        print(\"Too high!\")\n",
    "        guess = random.randint(0, (guess / 2))\n",
    "    elif guess < correct:\n",
    "        print(\"Too low!\")\n",
    "        guess = random.randint((guess / 2), 100)\n",
    "\n",
    "print(\"It took {} guesses to get the correct number!\".format(num_guesses))"
   ]
  },
  {
   "cell_type": "code",
   "execution_count": null,
   "metadata": {},
   "outputs": [],
   "source": [
    "# 26"
   ]
  },
  {
   "cell_type": "code",
   "execution_count": 1,
   "metadata": {},
   "outputs": [],
   "source": [
    "# 27"
   ]
  },
  {
   "cell_type": "markdown",
   "metadata": {},
   "source": [
    "# Exercise 28: Max of Three °\n",
    "Implement a function that takes as input three variables, and returns the largest of the three. Do this without using the Python max() function!\n",
    "\n",
    "The goal of this exercise is to think about some internals that Python normally takes care of for us. All you need is some variables and if statements!"
   ]
  },
  {
   "cell_type": "code",
   "execution_count": 8,
   "metadata": {},
   "outputs": [],
   "source": [
    "def get_max(num1, num2, num3):\n",
    "    if (num1 > num2) and (num1 > num3):\n",
    "        return num1\n",
    "    elif (num2 > num1) and (num2 > num3):\n",
    "        return num2\n",
    "    elif (num3 > num1) and (num3 > num2):\n",
    "        return num3"
   ]
  },
  {
   "cell_type": "code",
   "execution_count": 10,
   "metadata": {},
   "outputs": [
    {
     "data": {
      "text/plain": [
       "693847"
      ]
     },
     "execution_count": 10,
     "metadata": {},
     "output_type": "execute_result"
    }
   ],
   "source": [
    "get_max(693847, 57, 983)"
   ]
  }
 ],
 "metadata": {
  "kernelspec": {
   "display_name": "Python 3",
   "language": "python",
   "name": "python3"
  },
  "language_info": {
   "codemirror_mode": {
    "name": "ipython",
    "version": 3
   },
   "file_extension": ".py",
   "mimetype": "text/x-python",
   "name": "python",
   "nbconvert_exporter": "python",
   "pygments_lexer": "ipython3",
   "version": "3.6.5"
  }
 },
 "nbformat": 4,
 "nbformat_minor": 2
}
